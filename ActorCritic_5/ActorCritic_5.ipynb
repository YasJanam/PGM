{
  "cells": [
    {
      "cell_type": "markdown",
      "metadata": {
        "id": "view-in-github",
        "colab_type": "text"
      },
      "source": [
        "<a href=\"https://colab.research.google.com/github/YasJanam/RL1/blob/main/ActorCritic_5/ActorCritic_5.ipynb\" target=\"_parent\"><img src=\"https://colab.research.google.com/assets/colab-badge.svg\" alt=\"Open In Colab\"/></a>"
      ]
    },
    {
      "cell_type": "markdown",
      "metadata": {
        "id": "mbtH49qgUZiU"
      },
      "source": [
        "#### **Requirement**"
      ]
    },
    {
      "cell_type": "code",
      "execution_count": null,
      "metadata": {
        "id": "59Uor8s8ZE9Q"
      },
      "outputs": [],
      "source": [
        "#!pip uninstall -y gym gymnasium box2d box2d-py"
      ]
    },
    {
      "cell_type": "code",
      "execution_count": 1,
      "metadata": {
        "colab": {
          "base_uri": "https://localhost:8080/"
        },
        "collapsed": true,
        "id": "9ZftFNGDAHBU",
        "outputId": "1eee5de1-4192-4db5-ea96-649253a7ed68"
      },
      "outputs": [
        {
          "output_type": "stream",
          "name": "stdout",
          "text": [
            "Collecting gymnasium==0.29.1\n",
            "  Downloading gymnasium-0.29.1-py3-none-any.whl.metadata (10 kB)\n",
            "Requirement already satisfied: numpy>=1.21.0 in /usr/local/lib/python3.12/dist-packages (from gymnasium==0.29.1) (2.0.2)\n",
            "Requirement already satisfied: cloudpickle>=1.2.0 in /usr/local/lib/python3.12/dist-packages (from gymnasium==0.29.1) (3.1.1)\n",
            "Requirement already satisfied: typing-extensions>=4.3.0 in /usr/local/lib/python3.12/dist-packages (from gymnasium==0.29.1) (4.15.0)\n",
            "Requirement already satisfied: farama-notifications>=0.0.1 in /usr/local/lib/python3.12/dist-packages (from gymnasium==0.29.1) (0.0.4)\n",
            "Downloading gymnasium-0.29.1-py3-none-any.whl (953 kB)\n",
            "\u001b[2K   \u001b[90m━━━━━━━━━━━━━━━━━━━━━━━━━━━━━━━━━━━━━━━━\u001b[0m \u001b[32m953.9/953.9 kB\u001b[0m \u001b[31m14.2 MB/s\u001b[0m eta \u001b[36m0:00:00\u001b[0m\n",
            "\u001b[?25hInstalling collected packages: gymnasium\n",
            "  Attempting uninstall: gymnasium\n",
            "    Found existing installation: gymnasium 1.2.1\n",
            "    Uninstalling gymnasium-1.2.1:\n",
            "      Successfully uninstalled gymnasium-1.2.1\n",
            "\u001b[31mERROR: pip's dependency resolver does not currently take into account all the packages that are installed. This behaviour is the source of the following dependency conflicts.\n",
            "dopamine-rl 4.1.2 requires gymnasium>=1.0.0, but you have gymnasium 0.29.1 which is incompatible.\u001b[0m\u001b[31m\n",
            "\u001b[0mSuccessfully installed gymnasium-0.29.1\n",
            "Collecting swig\n",
            "  Downloading swig-4.3.1.post0-py3-none-manylinux_2_12_x86_64.manylinux2010_x86_64.whl.metadata (3.5 kB)\n",
            "Downloading swig-4.3.1.post0-py3-none-manylinux_2_12_x86_64.manylinux2010_x86_64.whl (1.9 MB)\n",
            "\u001b[2K   \u001b[90m━━━━━━━━━━━━━━━━━━━━━━━━━━━━━━━━━━━━━━━━\u001b[0m \u001b[32m1.9/1.9 MB\u001b[0m \u001b[31m17.3 MB/s\u001b[0m eta \u001b[36m0:00:00\u001b[0m\n",
            "\u001b[?25hInstalling collected packages: swig\n",
            "Successfully installed swig-4.3.1.post0\n",
            "Collecting box2d-py\n",
            "  Downloading box2d-py-2.3.8.tar.gz (374 kB)\n",
            "\u001b[2K     \u001b[90m━━━━━━━━━━━━━━━━━━━━━━━━━━━━━━━━━━━━━━━\u001b[0m \u001b[32m374.5/374.5 kB\u001b[0m \u001b[31m7.5 MB/s\u001b[0m eta \u001b[36m0:00:00\u001b[0m\n",
            "\u001b[?25h  Preparing metadata (setup.py) ... \u001b[?25l\u001b[?25hdone\n",
            "Building wheels for collected packages: box2d-py\n",
            "  Building wheel for box2d-py (setup.py) ... \u001b[?25l\u001b[?25hdone\n",
            "  Created wheel for box2d-py: filename=box2d_py-2.3.8-cp312-cp312-linux_x86_64.whl size=2409499 sha256=bb6878bfbadcf9aa96a8a9666cfd1e986189dc30b7670cc0948cb3b6863de820\n",
            "  Stored in directory: /root/.cache/pip/wheels/d6/3c/ab/b6fd75459cadc56f4a4125d4cb387a708a59ca8589e4cc6b7d\n",
            "Successfully built box2d-py\n",
            "Installing collected packages: box2d-py\n",
            "Successfully installed box2d-py-2.3.8\n"
          ]
        }
      ],
      "source": [
        "!pip install gymnasium==0.29.1\n",
        "!pip install swig\n",
        "!pip install box2d-py"
      ]
    },
    {
      "cell_type": "code",
      "execution_count": 2,
      "metadata": {
        "id": "B5yNdtP6_qHC"
      },
      "outputs": [],
      "source": [
        "import gymnasium as gym\n",
        "import numpy as np\n",
        "import torch\n",
        "import torch.nn as nn\n",
        "import torch.optim as optim\n",
        "\n",
        "device = torch.device(\"cuda\" if torch.cuda.is_available() else \"cpu\")"
      ]
    },
    {
      "cell_type": "markdown",
      "metadata": {
        "id": "L3BSZCdoUHeo"
      },
      "source": [
        "#### **Actor-Critic**"
      ]
    },
    {
      "cell_type": "code",
      "execution_count": 3,
      "metadata": {
        "id": "aSg3LcBTAMpt"
      },
      "outputs": [],
      "source": [
        "class ActorCritic(nn.Module):\n",
        "  def __init__(self,state_dim,action_dim,hidden_dim):\n",
        "    super().__init__()\n",
        "    self.shared = nn.Sequential(\n",
        "        nn.Linear(state_dim,hidden_dim),\n",
        "        nn.ReLU()\n",
        "    )\n",
        "\n",
        "    self.actor = nn.Sequential(\n",
        "        nn.Linear(hidden_dim,action_dim),\n",
        "        nn.Softmax(dim=-1)\n",
        "    )\n",
        "\n",
        "    self.critic = nn.Linear(hidden_dim,1)\n",
        "  def forward(self,x):\n",
        "    x = self.shared(x)\n",
        "    return self.actor(x), self.critic(x)"
      ]
    },
    {
      "cell_type": "markdown",
      "metadata": {
        "id": "95mAfGghULan"
      },
      "source": [
        "#### **Actor-Critic Trainer**"
      ]
    },
    {
      "cell_type": "code",
      "execution_count": 21,
      "metadata": {
        "id": "FJpZKC-TB5Dl"
      },
      "outputs": [],
      "source": [
        "class ActorCriticTrainer(nn.Module):\n",
        "  def __init__(self,env,hidden_dim=128,gamma=0.99,lr=0.01,num_episodes=1000,log_interval=100,max_rewards=float('inf')):\n",
        "    super().__init__()\n",
        "    self.env = env\n",
        "    self.hidden_dim = hidden_dim\n",
        "    self.gamma = gamma\n",
        "    self.lr = lr\n",
        "    self.num_episodes = num_episodes\n",
        "    self.log_interval = log_interval\n",
        "    self.max_rewards = max_rewards\n",
        "    state_dim = self.env.observation_space.shape[0]\n",
        "    action_dim = self.env.action_space.n\n",
        "    self.model = ActorCritic(state_dim,action_dim,hidden_dim).to(device)\n",
        "    self.optimizer = optim.Adam(self.model.parameters(),lr=self.lr)\n",
        "\n",
        "  def train(self):\n",
        "    for episode in range(self.num_episodes):\n",
        "      done = False\n",
        "      state, _ = self.env.reset(seed=42)\n",
        "      log_probs, values, rewards = [], [], []\n",
        "      total_reward = 0\n",
        "\n",
        "      while not done:\n",
        "        state_t = torch.FloatTensor(state).unsqueeze(0).to(device)\n",
        "        probs, value = self.model(state_t)\n",
        "\n",
        "        dist = torch.distributions.Categorical(probs)\n",
        "        action = dist.sample()\n",
        "\n",
        "        next_state, reward, terminated, truncated, _ = self.env.step(action.item())\n",
        "        done = terminated or truncated\n",
        "\n",
        "        next_state_t = torch.FloatTensor(next_state).unsqueeze(0).to(device)\n",
        "        next_value = self.model(next_state_t)[1]\n",
        "        target = reward + (1 - int(done)) * self.gamma * next_value.detach()\n",
        "        delta = target - value\n",
        "\n",
        "        actor_loss = -dist.log_prob(action) * delta.detach()\n",
        "        critic_loss = delta.pow(2)\n",
        "        loss = actor_loss + 0.5 * critic_loss.mean()\n",
        "\n",
        "        self.optimizer.zero_grad()\n",
        "        loss.backward()\n",
        "        self.optimizer.step()\n",
        "\n",
        "        state = next_state\n",
        "\n",
        "        log_probs.append(dist.log_prob(action))\n",
        "        values.append(value)\n",
        "        rewards.append(reward)\n",
        "\n",
        "      # log\n",
        "      total_reward = sum(rewards)\n",
        "      if episode % self.log_interval == 0 or episode == (self.num_episodes -1) :\n",
        "        print(f\"Episode {episode}, Total Reward: {total_reward}\")\n",
        "\n",
        "      # early stopping\n",
        "      if total_reward >= self.max_rewards:\n",
        "        print(f\"Reached max reward {total_reward:.2f}, stopping training!\")\n",
        "        break\n",
        "\n",
        "    self.env.close()"
      ]
    },
    {
      "cell_type": "markdown",
      "metadata": {
        "id": "pbuw8oOBUULi"
      },
      "source": [
        "#### **Test**"
      ]
    },
    {
      "cell_type": "code",
      "execution_count": 5,
      "metadata": {
        "id": "vAYx4SeSIPUL"
      },
      "outputs": [],
      "source": [
        "def test(model,env):\n",
        "  state, _ = env.reset()\n",
        "  done = False\n",
        "  total_reward = 0\n",
        "\n",
        "  while not done:\n",
        "      state_tensor = torch.tensor(state, dtype=torch.float32)\n",
        "\n",
        "      with torch.no_grad():\n",
        "          probs = model(state_tensor)[0]\n",
        "      dist = torch.distributions.Categorical(probs)\n",
        "      action = dist.sample().item()\n",
        "\n",
        "      next_state, reward, terminated, truncated, _ = env.step(action)\n",
        "      done = terminated or truncated\n",
        "\n",
        "      total_reward += reward\n",
        "      state = next_state\n",
        "\n",
        "  return total_reward"
      ]
    },
    {
      "cell_type": "code",
      "execution_count": 6,
      "metadata": {
        "id": "izaLE7JBI54S"
      },
      "outputs": [],
      "source": [
        "def tests(model,env,num_tests):\n",
        "  total_rewards = []\n",
        "  for _ in range(num_tests):\n",
        "    total_reward = test(model,env)\n",
        "    total_rewards.append(total_reward)\n",
        "  rewards = [float(x) for x in total_rewards]\n",
        "  return rewards"
      ]
    },
    {
      "cell_type": "markdown",
      "metadata": {
        "id": "Uhhe6XdSUWix"
      },
      "source": [
        "#### Labratory"
      ]
    },
    {
      "cell_type": "markdown",
      "metadata": {
        "id": "rUXIkxdTZMN6"
      },
      "source": [
        "##### CartPole"
      ]
    },
    {
      "cell_type": "code",
      "execution_count": null,
      "metadata": {
        "id": "JlxtxjTsJDud"
      },
      "outputs": [],
      "source": [
        "cartpole = gym.make(\"CartPole-v1\")"
      ]
    },
    {
      "cell_type": "code",
      "execution_count": null,
      "metadata": {
        "id": "o4-2pOtpJC0r"
      },
      "outputs": [],
      "source": [
        "cp_trainer = ActorCriticTrainer(env=cartpole,hidden_dim=15,lr=0.001,gamma=0.99,num_episodes=1000)\n",
        "cp_trainer.train()"
      ]
    },
    {
      "cell_type": "markdown",
      "metadata": {
        "id": "lc14iGAYX0Eq"
      },
      "source": [
        "##### LunarLander"
      ]
    },
    {
      "cell_type": "code",
      "execution_count": 7,
      "metadata": {
        "id": "jE3M_II9J0KK"
      },
      "outputs": [],
      "source": [
        "ll = gym.make('LunarLander-v2')"
      ]
    },
    {
      "cell_type": "code",
      "execution_count": null,
      "metadata": {
        "colab": {
          "base_uri": "https://localhost:8080/"
        },
        "id": "quTSfkFFPp0D",
        "outputId": "86f794a1-1fd9-4cfc-81d6-31bf9af922c6"
      },
      "outputs": [
        {
          "name": "stdout",
          "output_type": "stream",
          "text": [
            "Episode 0, Total Reward: -255.20047094098092\n",
            "Episode 100, Total Reward: -36.77220490227808\n",
            "Episode 200, Total Reward: -277.691285019522\n",
            "Episode 300, Total Reward: -11.405125993455467\n",
            "Episode 400, Total Reward: -177.71477995920935\n",
            "Episode 500, Total Reward: -220.52070237102228\n",
            "Episode 600, Total Reward: 72.90490170835302\n",
            "Episode 700, Total Reward: 131.9005839922299\n",
            "Episode 800, Total Reward: 59.68749314118081\n",
            "Episode 900, Total Reward: 131.6602015669093\n",
            "Episode 1000, Total Reward: -49.862008796371484\n",
            "Episode 1100, Total Reward: -165.8433278602023\n",
            "Episode 1200, Total Reward: 37.198082066680456\n",
            "Episode 1300, Total Reward: 237.5634051043198\n",
            "Episode 1400, Total Reward: -70.13732463812649\n",
            "Episode 1499, Total Reward: 232.38423170693784\n"
          ]
        }
      ],
      "source": [
        "ll_trainer = ActorCriticTrainer(env=ll,hidden_dim=40,lr=0.0005,gamma=0.99,num_episodes=1500)\n",
        "ll_trainer.train()"
      ]
    },
    {
      "cell_type": "code",
      "execution_count": null,
      "metadata": {
        "colab": {
          "base_uri": "https://localhost:8080/"
        },
        "id": "-kN5MLXZd7mu",
        "outputId": "8848d20c-146b-4a18-8aa7-8f97ed87b662"
      },
      "outputs": [
        {
          "data": {
            "text/plain": [
              "[210.7745528649264,\n",
              " 208.09202748917886,\n",
              " -156.78314090819327,\n",
              " -36.2938109469499,\n",
              " 248.5070988937374,\n",
              " 44.32950179720703,\n",
              " 221.78832991182804,\n",
              " 185.53139697967492,\n",
              " 204.37582587831378,\n",
              " 11.825746051306965]"
            ]
          },
          "execution_count": 13,
          "metadata": {},
          "output_type": "execute_result"
        }
      ],
      "source": [
        "res = tests(cp_trainer.model,ll,10)\n",
        "res"
      ]
    }
  ],
  "metadata": {
    "colab": {
      "toc_visible": true,
      "provenance": [],
      "authorship_tag": "ABX9TyNjavzWNAolsB5Ab0KGAx5B",
      "include_colab_link": true
    },
    "kernelspec": {
      "display_name": "Python 3",
      "name": "python3"
    },
    "language_info": {
      "name": "python"
    }
  },
  "nbformat": 4,
  "nbformat_minor": 0
}