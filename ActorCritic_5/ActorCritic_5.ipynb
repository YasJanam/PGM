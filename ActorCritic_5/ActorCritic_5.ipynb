{
  "cells": [
    {
      "cell_type": "markdown",
      "metadata": {
        "id": "view-in-github",
        "colab_type": "text"
      },
      "source": [
        "<a href=\"https://colab.research.google.com/github/YasJanam/RL1/blob/main/ActorCritic_5/ActorCritic_5.ipynb\" target=\"_parent\"><img src=\"https://colab.research.google.com/assets/colab-badge.svg\" alt=\"Open In Colab\"/></a>"
      ]
    },
    {
      "cell_type": "markdown",
      "metadata": {
        "id": "mbtH49qgUZiU"
      },
      "source": [
        "#### **Requirement**"
      ]
    },
    {
      "cell_type": "code",
      "execution_count": 1,
      "metadata": {
        "id": "59Uor8s8ZE9Q"
      },
      "outputs": [],
      "source": [
        "#!pip uninstall -y gym gymnasium box2d box2d-py"
      ]
    },
    {
      "cell_type": "code",
      "execution_count": null,
      "metadata": {
        "collapsed": true,
        "id": "9ZftFNGDAHBU"
      },
      "outputs": [],
      "source": [
        "!pip install gymnasium==0.29.1\n",
        "!pip install swig\n",
        "!pip install box2d-py"
      ]
    },
    {
      "cell_type": "code",
      "execution_count": 3,
      "metadata": {
        "id": "B5yNdtP6_qHC"
      },
      "outputs": [],
      "source": [
        "import gymnasium as gym\n",
        "import numpy as np\n",
        "import torch\n",
        "import torch.nn as nn\n",
        "import torch.optim as optim\n",
        "\n",
        "device = torch.device(\"cuda\" if torch.cuda.is_available() else \"cpu\")"
      ]
    },
    {
      "cell_type": "markdown",
      "metadata": {
        "id": "L3BSZCdoUHeo"
      },
      "source": [
        "#### **Actor-Critic**"
      ]
    },
    {
      "cell_type": "code",
      "execution_count": 4,
      "metadata": {
        "id": "aSg3LcBTAMpt"
      },
      "outputs": [],
      "source": [
        "class ActorCritic(nn.Module):\n",
        "  def __init__(self,state_dim,action_dim,hidden_dim):\n",
        "    super().__init__()\n",
        "    self.shared = nn.Sequential(\n",
        "        nn.Linear(state_dim,hidden_dim),\n",
        "        nn.ReLU()\n",
        "    )\n",
        "\n",
        "    self.actor = nn.Sequential(\n",
        "        nn.Linear(hidden_dim,action_dim),\n",
        "        nn.Softmax(dim=-1)\n",
        "    )\n",
        "\n",
        "    self.critic = nn.Linear(hidden_dim,1)\n",
        "  def forward(self,x):\n",
        "    x = self.shared(x)\n",
        "    return self.actor(x), self.critic(x)"
      ]
    },
    {
      "cell_type": "markdown",
      "metadata": {
        "id": "95mAfGghULan"
      },
      "source": [
        "#### **Actor-Critic Trainer**"
      ]
    },
    {
      "cell_type": "code",
      "execution_count": 5,
      "metadata": {
        "id": "FJpZKC-TB5Dl"
      },
      "outputs": [],
      "source": [
        "class ActorCriticTrainer(nn.Module):\n",
        "  def __init__(self,env,hidden_dim=128,gamma=0.99,lr=0.01,num_episodes=1000,log_interval=100,max_rewards=float('inf')):\n",
        "    super().__init__()\n",
        "    self.env = env\n",
        "    self.hidden_dim = hidden_dim\n",
        "    self.gamma = gamma\n",
        "    self.lr = lr\n",
        "    self.num_episodes = num_episodes\n",
        "    self.log_interval = log_interval\n",
        "    self.max_rewards = max_rewards\n",
        "    state_dim = self.env.observation_space.shape[0]\n",
        "    action_dim = self.env.action_space.n\n",
        "    self.model = ActorCritic(state_dim,action_dim,hidden_dim).to(device)\n",
        "    self.optimizer = optim.Adam(self.model.parameters(),lr=self.lr)\n",
        "\n",
        "  def train(self):\n",
        "    for episode in range(self.num_episodes):\n",
        "      done = False\n",
        "      state, _ = self.env.reset()\n",
        "      log_probs, values, rewards = [], [], []\n",
        "      total_reward = 0\n",
        "\n",
        "      while not done:\n",
        "        state_t = torch.FloatTensor(state).unsqueeze(0).to(device)\n",
        "        probs, value = self.model(state_t)\n",
        "\n",
        "        dist = torch.distributions.Categorical(probs)\n",
        "        action = dist.sample()\n",
        "\n",
        "        next_state, reward, terminated, truncated, _ = self.env.step(action.item())\n",
        "        done = terminated or truncated\n",
        "\n",
        "        next_state_t = torch.FloatTensor(next_state).unsqueeze(0).to(device)\n",
        "        next_value = self.model(next_state_t)[1]\n",
        "        target = reward + (1 - int(done)) * self.gamma * next_value.detach()\n",
        "        delta = target - value\n",
        "\n",
        "        actor_loss = -dist.log_prob(action) * delta.detach()\n",
        "        critic_loss = delta.pow(2)\n",
        "        loss = actor_loss + 0.5 * critic_loss.mean()\n",
        "\n",
        "        self.optimizer.zero_grad()\n",
        "        loss.backward()\n",
        "        self.optimizer.step()\n",
        "\n",
        "        state = next_state\n",
        "\n",
        "        log_probs.append(dist.log_prob(action))\n",
        "        values.append(value)\n",
        "        rewards.append(reward)\n",
        "\n",
        "      # log\n",
        "      total_reward = sum(rewards)\n",
        "      if episode % self.log_interval == 0 or episode == (self.num_episodes -1) :\n",
        "        print(f\"Episode {episode}, Total Reward: {total_reward}\")\n",
        "\n",
        "      # early stopping\n",
        "      if total_reward >= self.max_rewards:\n",
        "        print(f\"Reached max reward {total_reward:.2f}, stopping training!\")\n",
        "        break\n",
        "\n",
        "    self.env.close()"
      ]
    },
    {
      "cell_type": "markdown",
      "metadata": {
        "id": "pbuw8oOBUULi"
      },
      "source": [
        "#### **Test**"
      ]
    },
    {
      "cell_type": "code",
      "execution_count": 6,
      "metadata": {
        "id": "vAYx4SeSIPUL"
      },
      "outputs": [],
      "source": [
        "def test(model,env):\n",
        "  state, _ = env.reset()\n",
        "  done = False\n",
        "  total_reward = 0\n",
        "\n",
        "  while not done:\n",
        "      state_tensor = torch.tensor(state, dtype=torch.float32)\n",
        "\n",
        "      with torch.no_grad():\n",
        "          probs = model(state_tensor)[0]\n",
        "      dist = torch.distributions.Categorical(probs)\n",
        "      action = dist.sample().item()\n",
        "\n",
        "      next_state, reward, terminated, truncated, _ = env.step(action)\n",
        "      done = terminated or truncated\n",
        "\n",
        "      total_reward += reward\n",
        "      state = next_state\n",
        "\n",
        "  return total_reward"
      ]
    },
    {
      "cell_type": "code",
      "execution_count": 7,
      "metadata": {
        "id": "izaLE7JBI54S"
      },
      "outputs": [],
      "source": [
        "def tests(model,env,num_tests):\n",
        "  total_rewards = []\n",
        "  for _ in range(num_tests):\n",
        "    total_reward = test(model,env)\n",
        "    total_rewards.append(total_reward)\n",
        "  rewards = [float(x) for x in total_rewards]\n",
        "  return rewards"
      ]
    },
    {
      "cell_type": "markdown",
      "metadata": {
        "id": "Uhhe6XdSUWix"
      },
      "source": [
        "#### Labratory"
      ]
    },
    {
      "cell_type": "markdown",
      "metadata": {
        "id": "rUXIkxdTZMN6"
      },
      "source": [
        "##### CartPole"
      ]
    },
    {
      "cell_type": "code",
      "execution_count": null,
      "metadata": {
        "id": "JlxtxjTsJDud"
      },
      "outputs": [],
      "source": [
        "cartpole = gym.make(\"CartPole-v1\")"
      ]
    },
    {
      "cell_type": "code",
      "execution_count": null,
      "metadata": {
        "id": "o4-2pOtpJC0r",
        "outputId": "28f4e24c-e19e-4b21-c956-489c5cd6cdaf",
        "colab": {
          "base_uri": "https://localhost:8080/"
        }
      },
      "outputs": [
        {
          "output_type": "stream",
          "name": "stdout",
          "text": [
            "Episode 0, Total Reward: 22.0\n",
            "Episode 100, Total Reward: 9.0\n",
            "Episode 200, Total Reward: 15.0\n",
            "Episode 300, Total Reward: 18.0\n",
            "Episode 400, Total Reward: 13.0\n",
            "Episode 500, Total Reward: 65.0\n",
            "Episode 600, Total Reward: 33.0\n",
            "Episode 700, Total Reward: 102.0\n",
            "Episode 800, Total Reward: 125.0\n",
            "Episode 900, Total Reward: 101.0\n",
            "Episode 999, Total Reward: 18.0\n"
          ]
        }
      ],
      "source": [
        "cp_trainer = ActorCriticTrainer(env=cartpole,hidden_dim=15,lr=0.001,gamma=0.99,num_episodes=1000)\n",
        "cp_trainer.train()"
      ]
    },
    {
      "cell_type": "markdown",
      "metadata": {
        "id": "lc14iGAYX0Eq"
      },
      "source": [
        "##### LunarLander"
      ]
    },
    {
      "cell_type": "code",
      "execution_count": 8,
      "metadata": {
        "id": "jE3M_II9J0KK"
      },
      "outputs": [],
      "source": [
        "ll = gym.make('LunarLander-v2')"
      ]
    },
    {
      "cell_type": "code",
      "execution_count": null,
      "metadata": {
        "colab": {
          "base_uri": "https://localhost:8080/"
        },
        "id": "quTSfkFFPp0D",
        "outputId": "86f794a1-1fd9-4cfc-81d6-31bf9af922c6"
      },
      "outputs": [
        {
          "name": "stdout",
          "output_type": "stream",
          "text": [
            "Episode 0, Total Reward: -255.20047094098092\n",
            "Episode 100, Total Reward: -36.77220490227808\n",
            "Episode 200, Total Reward: -277.691285019522\n",
            "Episode 300, Total Reward: -11.405125993455467\n",
            "Episode 400, Total Reward: -177.71477995920935\n",
            "Episode 500, Total Reward: -220.52070237102228\n",
            "Episode 600, Total Reward: 72.90490170835302\n",
            "Episode 700, Total Reward: 131.9005839922299\n",
            "Episode 800, Total Reward: 59.68749314118081\n",
            "Episode 900, Total Reward: 131.6602015669093\n",
            "Episode 1000, Total Reward: -49.862008796371484\n",
            "Episode 1100, Total Reward: -165.8433278602023\n",
            "Episode 1200, Total Reward: 37.198082066680456\n",
            "Episode 1300, Total Reward: 237.5634051043198\n",
            "Episode 1400, Total Reward: -70.13732463812649\n",
            "Episode 1499, Total Reward: 232.38423170693784\n"
          ]
        }
      ],
      "source": [
        "ll_trainer = ActorCriticTrainer(env=ll,hidden_dim=40,lr=0.0005,gamma=0.99,num_episodes=1500)\n",
        "ll_trainer.train()"
      ]
    },
    {
      "cell_type": "code",
      "execution_count": null,
      "metadata": {
        "colab": {
          "base_uri": "https://localhost:8080/"
        },
        "id": "-kN5MLXZd7mu",
        "outputId": "8848d20c-146b-4a18-8aa7-8f97ed87b662"
      },
      "outputs": [
        {
          "data": {
            "text/plain": [
              "[210.7745528649264,\n",
              " 208.09202748917886,\n",
              " -156.78314090819327,\n",
              " -36.2938109469499,\n",
              " 248.5070988937374,\n",
              " 44.32950179720703,\n",
              " 221.78832991182804,\n",
              " 185.53139697967492,\n",
              " 204.37582587831378,\n",
              " 11.825746051306965]"
            ]
          },
          "execution_count": 13,
          "metadata": {},
          "output_type": "execute_result"
        }
      ],
      "source": [
        "res = tests(cp_trainer.model,ll,10)\n",
        "res"
      ]
    }
  ],
  "metadata": {
    "colab": {
      "toc_visible": true,
      "provenance": [],
      "authorship_tag": "ABX9TyNNwNqw9zmyRPTbWU9Ygm9c",
      "include_colab_link": true
    },
    "kernelspec": {
      "display_name": "Python 3",
      "name": "python3"
    },
    "language_info": {
      "name": "python"
    }
  },
  "nbformat": 4,
  "nbformat_minor": 0
}