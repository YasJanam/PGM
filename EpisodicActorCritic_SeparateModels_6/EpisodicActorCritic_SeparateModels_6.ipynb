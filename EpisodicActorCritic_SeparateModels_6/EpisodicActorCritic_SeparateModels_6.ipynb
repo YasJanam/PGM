{
  "cells": [
    {
      "cell_type": "markdown",
      "metadata": {
        "id": "view-in-github",
        "colab_type": "text"
      },
      "source": [
        "<a href=\"https://colab.research.google.com/github/YasJanam/RL1/blob/main/EpisodicActorCritic_SeparateModels_6/EpisodicActorCritic_SeparateModels_6.ipynb\" target=\"_parent\"><img src=\"https://colab.research.google.com/assets/colab-badge.svg\" alt=\"Open In Colab\"/></a>"
      ]
    },
    {
      "cell_type": "markdown",
      "metadata": {
        "id": "mbtH49qgUZiU"
      },
      "source": [
        "#### **Requirement**"
      ]
    },
    {
      "cell_type": "code",
      "execution_count": 1,
      "metadata": {
        "id": "59Uor8s8ZE9Q"
      },
      "outputs": [],
      "source": [
        "#!pip uninstall -y gym gymnasium box2d box2d-py"
      ]
    },
    {
      "cell_type": "code",
      "execution_count": null,
      "metadata": {
        "collapsed": true,
        "id": "9ZftFNGDAHBU"
      },
      "outputs": [],
      "source": [
        "!pip install gymnasium==0.29.1\n",
        "!pip install swig\n",
        "!pip install box2d-py\n",
        "!pip install stable_baselines3"
      ]
    },
    {
      "cell_type": "code",
      "execution_count": 3,
      "metadata": {
        "id": "B5yNdtP6_qHC",
        "colab": {
          "base_uri": "https://localhost:8080/"
        },
        "outputId": "b0441ca0-92c9-4e95-f865-4108e536e2ab"
      },
      "outputs": [
        {
          "output_type": "stream",
          "name": "stderr",
          "text": [
            "Gym has been unmaintained since 2022 and does not support NumPy 2.0 amongst other critical functionality.\n",
            "Please upgrade to Gymnasium, the maintained drop-in replacement of Gym, or contact the authors of your software and request that they upgrade.\n",
            "See the migration guide at https://gymnasium.farama.org/introduction/migration_guide/ for additional information.\n",
            "/usr/local/lib/python3.12/dist-packages/jupyter_client/session.py:203: DeprecationWarning: datetime.datetime.utcnow() is deprecated and scheduled for removal in a future version. Use timezone-aware objects to represent datetimes in UTC: datetime.datetime.now(datetime.UTC).\n",
            "  return datetime.utcnow().replace(tzinfo=utc)\n"
          ]
        }
      ],
      "source": [
        "import gymnasium as gym\n",
        "from stable_baselines3 import A2C\n",
        "#import gym\n",
        "import numpy as np\n",
        "import torch\n",
        "import torch.nn as nn\n",
        "import torch.optim as optim\n",
        "from torch.distributions import Categorical\n",
        "\n",
        "device = torch.device(\"cuda\" if torch.cuda.is_available() else \"cpu\")"
      ]
    },
    {
      "cell_type": "markdown",
      "source": [
        "#### **actor and critic**"
      ],
      "metadata": {
        "id": "57IAMdQeXmc5"
      }
    },
    {
      "cell_type": "code",
      "source": [
        "class Actor(nn.Module):\n",
        "  def __init__(self,state_dim,action_dim,hidden_dim):\n",
        "    super(Actor,self).__init__()\n",
        "    self.fc = nn.Sequential(\n",
        "        nn.Linear(state_dim,hidden_dim),\n",
        "        nn.ReLU(),\n",
        "        nn.Linear(hidden_dim,action_dim),\n",
        "        nn.Softmax(dim=-1)\n",
        "    )\n",
        "  def forward(self,inp):\n",
        "    return self.fc(inp)"
      ],
      "metadata": {
        "id": "1n-qEanxRh9p"
      },
      "execution_count": 4,
      "outputs": []
    },
    {
      "cell_type": "code",
      "source": [
        "class Critic(nn.Module):\n",
        "  def __init__(self,state_dim,hidden_dim):\n",
        "    super(Critic,self).__init__()\n",
        "    self.fc = nn.Sequential(\n",
        "        nn.Linear(state_dim,hidden_dim),\n",
        "        nn.ReLU(),\n",
        "        nn.Linear(hidden_dim,1)\n",
        "    )\n",
        "  def forward(self,inp):\n",
        "    return self.fc(inp)"
      ],
      "metadata": {
        "id": "Z1BjGNW-R0fy"
      },
      "execution_count": 5,
      "outputs": []
    },
    {
      "cell_type": "markdown",
      "metadata": {
        "id": "95mAfGghULan"
      },
      "source": [
        "#### **Actor-Critic Trainer**"
      ]
    },
    {
      "cell_type": "code",
      "source": [
        "class ActorCriticTrainer:\n",
        "  def __init__(self,env,hidden_dim=128,gamma=0.99,actor_lr=0.01,critic_lr=0.001,env_seed=0,\n",
        "               actor_path = None, critic_path = None,\n",
        "               num_episodes=1000,log_interval=100,max_rewards=float('inf')):\n",
        "    super().__init__()\n",
        "    self.env = env\n",
        "    self.hidden_dim = hidden_dim\n",
        "    self.gamma = gamma\n",
        "    self.actor_lr = actor_lr\n",
        "    self.critic_lr = critic_lr\n",
        "    self.env_seed = env_seed\n",
        "    self.num_episodes = num_episodes\n",
        "    self.log_interval = log_interval\n",
        "    self.max_rewards = max_rewards\n",
        "    state_dim = self.env.observation_space.shape[0]\n",
        "    action_dim = self.env.action_space.n\n",
        "    self.actor = Actor(state_dim,action_dim,hidden_dim).to(device)\n",
        "    self.critic = Critic(state_dim,hidden_dim).to(device)\n",
        "    self.actor_opt = optim.Adam(self.actor.parameters(),lr=self.actor_lr)\n",
        "    self.critic_opt = optim.Adam(self.critic.parameters(),lr=self.critic_lr)\n",
        "\n",
        "\n",
        "  def train(self):\n",
        "    self.actor.train()\n",
        "    self.critic.train()\n",
        "    for episode in range(self.num_episodes):\n",
        "      # ---- rollout ----\n",
        "      done = False\n",
        "      state, _ = self.env.reset() if self.env_seed==0 else self.env.reset(seed=self.env_seed)\n",
        "      log_probs,values,rewards = [], [], []\n",
        "\n",
        "      while not done:\n",
        "        state_t = torch.tensor(state, dtype=torch.float32, device=device).unsqueeze(0)\n",
        "\n",
        "        probs = self.actor(state_t)\n",
        "        value = self.critic(state_t)\n",
        "\n",
        "        dist = Categorical(probs=probs)\n",
        "        action = dist.sample()\n",
        "\n",
        "        next_state, reward, terminated, truncated, _ = self.env.step(action.item())\n",
        "        done = terminated or truncated\n",
        "        log_probs.append(dist.log_prob(action))\n",
        "        values.append(value)\n",
        "        rewards.append(reward)\n",
        "        state = next_state\n",
        "\n",
        "      values = torch.cat(values).squeeze(-1)\n",
        "\n",
        "      # ---- compute returns ----\n",
        "      returns, G = [], 0\n",
        "      for r in reversed(rewards):\n",
        "        G = r + self.gamma * G\n",
        "        returns.insert(0,G)\n",
        "      returns = torch.tensor(returns).to(device)\n",
        "      #returns = (returns - returns.mean()) / (returns.std() + 1e-8)\n",
        "\n",
        "      # ---- compute advantage ----\n",
        "      advantages = returns - values.detach()\n",
        "      #advantages = (advantages - advantages.mean()) / (advantages.std() + 1e-8)پ\n",
        "      advantages = advantages.clamp(-10, 10)\n",
        "\n",
        "      # ---- update actor ----\n",
        "      self.actor_opt.zero_grad()\n",
        "      actor_loss = -(torch.stack(log_probs) * advantages).mean()\n",
        "      actor_loss.backward()\n",
        "\n",
        "      #if episode % self.log_interval == 0:\n",
        "      #  print(\"-------------\")\n",
        "      #  actor_mgrad = self.ComputeMeanGrad(self.actor)\n",
        "      #  print(f\"Actor Gard: {actor_mgrad:.4f}\")\n",
        "\n",
        "      nn.utils.clip_grad_norm_(self.actor.parameters(), 0.5)\n",
        "      self.actor_opt.step()\n",
        "\n",
        "      # ---- update critic ----\n",
        "      self.critic_opt.zero_grad()\n",
        "      critic_loss = (returns - values).pow(2).mean()\n",
        "      critic_loss.backward()\n",
        "\n",
        "      #if episode % self.log_interval == 0:\n",
        "      #  critic_mgrad = self.ComputeMeanGrad(self.critic)\n",
        "      #  print(f\"Critic Grad: {critic_mgrad:.4f}\")\n",
        "\n",
        "      nn.utils.clip_grad_norm_(self.critic.parameters(), 0.4)\n",
        "      self.critic_opt.step()\n",
        "\n",
        "      # ---- log ----\n",
        "      total_reward = sum(rewards)\n",
        "      if episode % self.log_interval == 0 or episode == (self.num_episodes -1) :\n",
        "        print(f\"Episode {episode}, Total Reward: {total_reward:.1f}\")\n",
        "\n",
        "    self.env.close()\n",
        "\n",
        "  def ComputeMeanGrad(self,model):\n",
        "      total_grad = 0\n",
        "      for p in model.parameters():\n",
        "        if p.grad is not None:\n",
        "          total_grad += p.grad.abs().mean().item()\n",
        "      return total_grad"
      ],
      "metadata": {
        "id": "WSE1jSgqEV54"
      },
      "execution_count": 6,
      "outputs": []
    },
    {
      "cell_type": "markdown",
      "metadata": {
        "id": "pbuw8oOBUULi"
      },
      "source": [
        "#### **Test**"
      ]
    },
    {
      "cell_type": "code",
      "execution_count": 7,
      "metadata": {
        "id": "vAYx4SeSIPUL"
      },
      "outputs": [],
      "source": [
        "def test(actor,critic,env,env_seed=0):\n",
        "  state, _ = env.reset() if env_seed==0 else env.reset(seed=env_seed)\n",
        "  done = False\n",
        "  total_reward = 0\n",
        "\n",
        "  while not done:\n",
        "      state_tensor = torch.tensor(state, dtype=torch.float32)\n",
        "\n",
        "      with torch.no_grad():\n",
        "          probs = actor(state_tensor)\n",
        "          value = critic(state_tensor)\n",
        "      dist = torch.distributions.Categorical(probs=probs)\n",
        "      action = dist.sample().item()\n",
        "\n",
        "      next_state, reward, terminated, truncated, _ = env.step(action)\n",
        "      done = terminated or truncated\n",
        "\n",
        "      total_reward += reward\n",
        "      state = next_state\n",
        "\n",
        "  return total_reward"
      ]
    },
    {
      "cell_type": "code",
      "execution_count": 8,
      "metadata": {
        "id": "izaLE7JBI54S"
      },
      "outputs": [],
      "source": [
        "def tests(actor,critic,env,env_seed=0,num_tests=5):\n",
        "  total_rewards = []\n",
        "  for _ in range(num_tests):\n",
        "    total_reward = test(actor,critic,env,env_seed)\n",
        "    total_rewards.append(total_reward)\n",
        "  rewards = [float(x) for x in total_rewards]\n",
        "  return rewards"
      ]
    },
    {
      "cell_type": "markdown",
      "metadata": {
        "id": "Uhhe6XdSUWix"
      },
      "source": [
        "#### Labratory"
      ]
    },
    {
      "cell_type": "markdown",
      "metadata": {
        "id": "rUXIkxdTZMN6"
      },
      "source": [
        "##### CartPole"
      ]
    },
    {
      "cell_type": "code",
      "execution_count": null,
      "metadata": {
        "id": "JlxtxjTsJDud"
      },
      "outputs": [],
      "source": [
        "cartpole = gym.make(\"CartPole-v1\")"
      ]
    },
    {
      "cell_type": "code",
      "source": [
        "cp_trainer = ActorCriticTrainer(env=cartpole,hidden_dim=40,actor_lr=0.0005,critic_lr=0.0004,gamma=0.99,\n",
        "                                log_interval=700,num_episodes=7000)\n",
        "cp_trainer.train()"
      ],
      "metadata": {
        "colab": {
          "base_uri": "https://localhost:8080/"
        },
        "id": "pmMyizHZwBtJ",
        "outputId": "a31c7bff-5d83-4629-fd87-52327c009fb4"
      },
      "execution_count": null,
      "outputs": [
        {
          "output_type": "stream",
          "name": "stdout",
          "text": [
            "Episode 0, Total Reward: 18.0\n",
            "Episode 700, Total Reward: 11.0\n",
            "Episode 1400, Total Reward: 50.0\n",
            "Episode 2100, Total Reward: 142.0\n",
            "Episode 2800, Total Reward: 78.0\n",
            "Episode 3500, Total Reward: 255.0\n",
            "Episode 4200, Total Reward: 188.0\n",
            "Episode 4900, Total Reward: 393.0\n",
            "Episode 5600, Total Reward: 430.0\n",
            "Episode 6300, Total Reward: 500.0\n",
            "Episode 6999, Total Reward: 500.0\n"
          ]
        }
      ]
    },
    {
      "cell_type": "code",
      "source": [
        "res = tests(actor = cp_trainer.actor,critic = cp_trainer.critic,env = cartpole,num_tests = 10)\n",
        "res"
      ],
      "metadata": {
        "colab": {
          "base_uri": "https://localhost:8080/"
        },
        "id": "a_Z_jXaQ48Y9",
        "outputId": "f1256d93-8993-45da-b117-45c41cddca68"
      },
      "execution_count": null,
      "outputs": [
        {
          "output_type": "execute_result",
          "data": {
            "text/plain": [
              "[423.0, 292.0, 500.0, 500.0, 500.0, 500.0, 500.0, 500.0, 500.0, 500.0]"
            ]
          },
          "metadata": {},
          "execution_count": 44
        }
      ]
    },
    {
      "cell_type": "markdown",
      "metadata": {
        "id": "lc14iGAYX0Eq"
      },
      "source": [
        "##### LunarLander"
      ]
    },
    {
      "cell_type": "code",
      "execution_count": 9,
      "metadata": {
        "id": "jE3M_II9J0KK",
        "colab": {
          "base_uri": "https://localhost:8080/"
        },
        "outputId": "1ebe5e8b-d3e4-401e-d09d-482d0d426147",
        "collapsed": true
      },
      "outputs": [
        {
          "output_type": "stream",
          "name": "stderr",
          "text": [
            "<frozen importlib._bootstrap>:488: DeprecationWarning: builtin type SwigPyPacked has no __module__ attribute\n",
            "<frozen importlib._bootstrap>:488: DeprecationWarning: builtin type SwigPyObject has no __module__ attribute\n",
            "<frozen importlib._bootstrap>:488: DeprecationWarning: builtin type swigvarlink has no __module__ attribute\n",
            "/usr/local/lib/python3.12/dist-packages/pygame/pkgdata.py:25: DeprecationWarning: pkg_resources is deprecated as an API. See https://setuptools.pypa.io/en/latest/pkg_resources.html\n",
            "  from pkg_resources import resource_stream, resource_exists\n",
            "/usr/local/lib/python3.12/dist-packages/pkg_resources/__init__.py:3154: DeprecationWarning: Deprecated call to `pkg_resources.declare_namespace('google')`.\n",
            "Implementing implicit namespace packages (as specified in PEP 420) is preferred to `pkg_resources.declare_namespace`. See https://setuptools.pypa.io/en/latest/references/keywords.html#keyword-namespace-packages\n",
            "  declare_namespace(pkg)\n",
            "/usr/local/lib/python3.12/dist-packages/pkg_resources/__init__.py:3154: DeprecationWarning: Deprecated call to `pkg_resources.declare_namespace('google.cloud')`.\n",
            "Implementing implicit namespace packages (as specified in PEP 420) is preferred to `pkg_resources.declare_namespace`. See https://setuptools.pypa.io/en/latest/references/keywords.html#keyword-namespace-packages\n",
            "  declare_namespace(pkg)\n",
            "/usr/local/lib/python3.12/dist-packages/pkg_resources/__init__.py:3154: DeprecationWarning: Deprecated call to `pkg_resources.declare_namespace('sphinxcontrib')`.\n",
            "Implementing implicit namespace packages (as specified in PEP 420) is preferred to `pkg_resources.declare_namespace`. See https://setuptools.pypa.io/en/latest/references/keywords.html#keyword-namespace-packages\n",
            "  declare_namespace(pkg)\n",
            "/usr/local/lib/python3.12/dist-packages/jupyter_client/session.py:203: DeprecationWarning: datetime.datetime.utcnow() is deprecated and scheduled for removal in a future version. Use timezone-aware objects to represent datetimes in UTC: datetime.datetime.now(datetime.UTC).\n",
            "  return datetime.utcnow().replace(tzinfo=utc)\n"
          ]
        }
      ],
      "source": [
        "ll = gym.make('LunarLander-v2')"
      ]
    },
    {
      "cell_type": "code",
      "source": [
        "ll_trainer = ActorCriticTrainer(env=ll,hidden_dim=40,actor_lr=0.0005,critic_lr=0.0004,gamma=0.99,\n",
        "                                log_interval=2000,num_episodes=7000)\n",
        "ll_trainer.train()"
      ],
      "metadata": {
        "colab": {
          "base_uri": "https://localhost:8080/"
        },
        "id": "saQifecJ5jGO",
        "outputId": "58aa30bf-81c2-4827-d788-5b9964a453b8"
      },
      "execution_count": null,
      "outputs": [
        {
          "output_type": "stream",
          "name": "stdout",
          "text": [
            "Episode 0, Total Reward: -194.9\n"
          ]
        },
        {
          "output_type": "stream",
          "name": "stderr",
          "text": [
            "/usr/local/lib/python3.12/dist-packages/jupyter_client/session.py:203: DeprecationWarning: datetime.datetime.utcnow() is deprecated and scheduled for removal in a future version. Use timezone-aware objects to represent datetimes in UTC: datetime.datetime.now(datetime.UTC).\n",
            "  return datetime.utcnow().replace(tzinfo=utc)\n"
          ]
        },
        {
          "output_type": "stream",
          "name": "stdout",
          "text": [
            "Episode 2000, Total Reward: -81.3\n",
            "Episode 4000, Total Reward: -178.1\n",
            "Episode 6000, Total Reward: -34.2\n",
            "Episode 6999, Total Reward: -62.3\n"
          ]
        }
      ]
    },
    {
      "cell_type": "code",
      "source": [
        "# 2\n",
        "ll_trainer.train()"
      ],
      "metadata": {
        "id": "_XBwCzCgpiSk",
        "colab": {
          "base_uri": "https://localhost:8080/"
        },
        "outputId": "ea64a478-1b89-4d12-da36-cb8661df74aa"
      },
      "execution_count": null,
      "outputs": [
        {
          "output_type": "stream",
          "name": "stdout",
          "text": [
            "Episode 0, Total Reward: -45.9\n",
            "Episode 2000, Total Reward: 31.5\n",
            "Episode 4000, Total Reward: 39.6\n",
            "Episode 6000, Total Reward: 2.8\n",
            "Episode 6999, Total Reward: 34.0\n"
          ]
        }
      ]
    },
    {
      "cell_type": "code",
      "source": [
        "# save\n",
        "torch.save(ll_trainer.actor.state_dict(), \"actor_trained.pth\")\n",
        "torch.save(ll_trainer.critic.state_dict(), \"critic_trained.pth\")"
      ],
      "metadata": {
        "id": "4gfGMJdFajTC"
      },
      "execution_count": null,
      "outputs": []
    },
    {
      "cell_type": "code",
      "source": [
        "# result\n",
        "res = tests(actor = ll_trainer.actor,critic = ll_trainer.critic,env = ll,num_tests = 10)\n",
        "res"
      ],
      "metadata": {
        "id": "cjXJLXvG-w1N",
        "colab": {
          "base_uri": "https://localhost:8080/"
        },
        "outputId": "bb905210-586d-4091-819a-61003975d542"
      },
      "execution_count": null,
      "outputs": [
        {
          "output_type": "execute_result",
          "data": {
            "text/plain": [
              "[81.03415902349798,\n",
              " 30.944868637314514,\n",
              " 70.45445010959597,\n",
              " 70.84390214167546,\n",
              " -0.25081166664865395,\n",
              " 52.35377144599157,\n",
              " 3.6194775417261558,\n",
              " 59.24852726197628,\n",
              " -203.7417427151157,\n",
              " 29.010743791729887]"
            ]
          },
          "metadata": {},
          "execution_count": 17
        }
      ]
    },
    {
      "cell_type": "markdown",
      "source": [
        "#### **stable_baselines3**"
      ],
      "metadata": {
        "id": "Wln30YpIVfgq"
      }
    },
    {
      "cell_type": "code",
      "source": [
        "# validation learned a2c model\n",
        "def val_A2C_model(env,learned_model,num_episodes):\n",
        "  rewards = []\n",
        "  for i in range(num_episodes):\n",
        "      obs, info = env.reset()\n",
        "      total_reward = 0\n",
        "      done = False\n",
        "      while not done:\n",
        "        action, _state = learned_model.predict(obs, deterministic=True)\n",
        "        obs, reward, terminated, truncated, info = env.step(action)\n",
        "        total_reward += reward\n",
        "        done = terminated or truncated\n",
        "      rewards.append(total_reward)\n",
        "  env.close()\n",
        "  return rewards"
      ],
      "metadata": {
        "id": "RRpvq2j4H2dd"
      },
      "execution_count": null,
      "outputs": []
    },
    {
      "cell_type": "markdown",
      "source": [
        "##### PartPole"
      ],
      "metadata": {
        "id": "xLXsWGuzLUXh"
      }
    },
    {
      "cell_type": "code",
      "source": [
        "model = A2C(\"MlpPolicy\", cartpole, verbose=1)\n",
        "model.learn(total_timesteps=1000)"
      ],
      "metadata": {
        "colab": {
          "base_uri": "https://localhost:8080/"
        },
        "id": "FApCCbLBVkKb",
        "outputId": "e8f748bf-22cb-4929-e350-65f2865ad01b",
        "collapsed": true
      },
      "execution_count": null,
      "outputs": [
        {
          "output_type": "stream",
          "name": "stdout",
          "text": [
            "Using cpu device\n",
            "Wrapping the env with a `Monitor` wrapper\n",
            "Wrapping the env in a DummyVecEnv.\n",
            "------------------------------------\n",
            "| rollout/              |          |\n",
            "|    ep_len_mean        | 16.6     |\n",
            "|    ep_rew_mean        | 16.6     |\n",
            "| time/                 |          |\n",
            "|    fps                | 638      |\n",
            "|    iterations         | 100      |\n",
            "|    time_elapsed       | 0        |\n",
            "|    total_timesteps    | 500      |\n",
            "| train/                |          |\n",
            "|    entropy_loss       | -0.691   |\n",
            "|    explained_variance | -0.175   |\n",
            "|    learning_rate      | 0.0007   |\n",
            "|    n_updates          | 99       |\n",
            "|    policy_loss        | 2.09     |\n",
            "|    value_loss         | 9.36     |\n",
            "------------------------------------\n",
            "------------------------------------\n",
            "| rollout/              |          |\n",
            "|    ep_len_mean        | 18.1     |\n",
            "|    ep_rew_mean        | 18.1     |\n",
            "| time/                 |          |\n",
            "|    fps                | 578      |\n",
            "|    iterations         | 200      |\n",
            "|    time_elapsed       | 1        |\n",
            "|    total_timesteps    | 1000     |\n",
            "| train/                |          |\n",
            "|    entropy_loss       | -0.692   |\n",
            "|    explained_variance | 0.133    |\n",
            "|    learning_rate      | 0.0007   |\n",
            "|    n_updates          | 199      |\n",
            "|    policy_loss        | 1.56     |\n",
            "|    value_loss         | 6.81     |\n",
            "------------------------------------\n"
          ]
        },
        {
          "output_type": "execute_result",
          "data": {
            "text/plain": [
              "<stable_baselines3.a2c.a2c.A2C at 0x7d57004508c0>"
            ]
          },
          "metadata": {},
          "execution_count": 20
        }
      ]
    },
    {
      "cell_type": "code",
      "source": [
        "cp_rewards = val_A2C_model(cartpole,model,10)\n",
        "cp_rewards"
      ],
      "metadata": {
        "colab": {
          "base_uri": "https://localhost:8080/"
        },
        "id": "8bNbJDDQJc0Z",
        "outputId": "c59de13c-23ba-4212-8a0e-3524eee4332b"
      },
      "execution_count": null,
      "outputs": [
        {
          "output_type": "execute_result",
          "data": {
            "text/plain": [
              "[23.0, 28.0, 20.0, 23.0, 30.0, 20.0, 30.0, 21.0, 25.0, 23.0]"
            ]
          },
          "metadata": {},
          "execution_count": 37
        }
      ]
    },
    {
      "cell_type": "markdown",
      "source": [
        "##### LunarLander"
      ],
      "metadata": {
        "id": "XMWLPfpdLZcZ"
      }
    },
    {
      "cell_type": "code",
      "source": [
        "ll_model = A2C(\"MlpPolicy\", ll, verbose=1)\n",
        "ll_model.learn(total_timesteps=5000)"
      ],
      "metadata": {
        "id": "ZZ-K_XodLcEd",
        "collapsed": true
      },
      "execution_count": null,
      "outputs": []
    },
    {
      "cell_type": "code",
      "source": [
        "ll_rewards = val_A2C_model(ll,ll_model,10)\n",
        "ll_rewards"
      ],
      "metadata": {
        "id": "A-en9hpkLgks",
        "colab": {
          "base_uri": "https://localhost:8080/"
        },
        "outputId": "e3ce8e37-a0d8-4e66-e11d-dd988f93448d"
      },
      "execution_count": null,
      "outputs": [
        {
          "output_type": "execute_result",
          "data": {
            "text/plain": [
              "[np.float64(138.5631329471401),\n",
              " np.float64(211.4076834151261),\n",
              " np.float64(-142.2841124696246),\n",
              " np.float64(-838.3672558662665),\n",
              " np.float64(-836.1269178705114),\n",
              " np.float64(7.190556798827771),\n",
              " np.float64(-152.2407845465102),\n",
              " np.float64(-788.3913196737847),\n",
              " np.float64(-792.6554356381653),\n",
              " np.float64(-865.6415001411785)]"
            ]
          },
          "metadata": {},
          "execution_count": 37
        }
      ]
    }
  ],
  "metadata": {
    "colab": {
      "toc_visible": true,
      "provenance": [],
      "mount_file_id": "1ZqAr2cHvoTjG_jdY_TL2tfs96WXf8cF-",
      "authorship_tag": "ABX9TyOCRKqh8O9iXXf2tXkp7q0K",
      "include_colab_link": true
    },
    "kernelspec": {
      "display_name": "Python 3",
      "name": "python3"
    },
    "language_info": {
      "name": "python"
    }
  },
  "nbformat": 4,
  "nbformat_minor": 0
}